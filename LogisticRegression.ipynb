{
 "cells": [
  {
   "cell_type": "markdown",
   "metadata": {},
   "source": []
  },
  {
   "cell_type": "markdown",
   "metadata": {},
   "source": [
    "# Exercise 1: Linear Regression\n",
    "In this task, a data set containing my runs of 50, 100, 400 and 1000 meters was analyzed. The specific connection between the two parameters of time and distance is that the greater the distance, the more time is required. This finding can also be seen in the figure."
   ]
  },
  {
   "cell_type": "code",
   "execution_count": null,
   "metadata": {},
   "outputs": [],
   "source": [
    "%matplotlib inline\n",
    "import numpy as np\n",
    "import pandas as pd\n",
    "from sklearn.linear_model import LinearRegression\n",
    "import matplotlib.pyplot as plt\n",
    "\n",
    "df = pd.read_csv(\"runs.csv\", sep=';')\n",
    "\n",
    "df\n"
   ]
  },
  {
   "cell_type": "code",
   "execution_count": null,
   "metadata": {},
   "outputs": [],
   "source": [
    "# Display of student height and weight. The data used is only taken from a study that looks at the behavior of students.\n",
    "x = df.iloc[:, 0]\n",
    "y = df.iloc[:, 1]\n",
    "print(x)\n",
    "print(y)\n",
    "plt.scatter(x,y)\n",
    "plt.show()"
   ]
  },
  {
   "cell_type": "code",
   "execution_count": null,
   "metadata": {},
   "outputs": [],
   "source": [
    "x_mean = np.mean(x)\n",
    "y_mean = np.mean(y)\n",
    "\n",
    "num = 0\n",
    "den = 0 \n",
    "\n",
    "for i in range(len(x)):\n",
    "  num += (x[i] - x_mean)*(y[i]- y_mean)\n",
    "  den += (x[i] - x_mean)**2\n",
    "\n",
    "m = num/den\n",
    "\n",
    "C = y_mean - m*y_mean\n",
    "\n",
    "print(m,C)"
   ]
  },
  {
   "cell_type": "code",
   "execution_count": null,
   "metadata": {},
   "outputs": [],
   "source": [
    "# Show the prediction in the following plot\n",
    "y_pred = m*x +C\n",
    "plt.scatter(x,y)\n",
    "plt.plot([min(x), max(x)], [min(y_pred), max(y_pred)], color='blue')\n",
    "plt.show()"
   ]
  },
  {
   "cell_type": "markdown",
   "metadata": {},
   "source": [
    "# Exercise 2: Logistic Regression\n",
    "In this task, an attempt was made to use the dataset used to determine whether it is an Iris Virginica or not. After some tedious attempts to get the correct answer, I just got an error presenting the solution."
   ]
  },
  {
   "cell_type": "code",
   "execution_count": null,
   "metadata": {},
   "outputs": [],
   "source": [
    "%matplotlib inline\n",
    "import pandas as pd\n",
    "import numpy as np\n",
    "from sklearn import datasets\n",
    "from sklearn.linear_model import LogisticRegression\n",
    "import matplotlib.pyplot as plt\n",
    "# http://scikit-learn.org/stable/modules/generated/sklearn.datasets.load_iris.html\n",
    "\n",
    "irisdata = datasets.load_iris()\n",
    "list(irisdata.keys())"
   ]
  },
  {
   "cell_type": "code",
   "execution_count": null,
   "metadata": {},
   "outputs": [],
   "source": [
    "x = irisdata[\"data\"]\n",
    "# If Iris-Virginica -> Else 0\n",
    "y = (irisdata['target'] == 2).astype('int64')\n",
    "\n",
    "log_reg = LogisticRegression()\n",
    "log_reg.fit(x,y)\n",
    "\n",
    "print(log_reg)\n",
    "\n",
    "y_proba =log_reg.predict_proba([[4.8,2.5,5.3,2.4]])\n",
    "print(y_proba)\n",
    "print(log_reg.predict([[4.8,2.5,5.3,2.4]]))\n"
   ]
  },
  {
   "cell_type": "code",
   "execution_count": null,
   "metadata": {},
   "outputs": [],
   "source": [
    "plt.plot(x,y,\"b.\")\n",
    "plt.plot(x,y_proba[:,1],\"g-\",label=\"Iris-Virginica\")\n",
    "plt.plot(x,y_proba[:,0],\"b--\",label=\"Not Iris-Virginca\")\n",
    "plt.show()"
   ]
  }
 ],
 "metadata": {
  "kernelspec": {
   "display_name": "Python 3.9.7 ('base')",
   "language": "python",
   "name": "python3"
  },
  "language_info": {
   "codemirror_mode": {
    "name": "ipython",
    "version": 3
   },
   "file_extension": ".py",
   "mimetype": "text/x-python",
   "name": "python",
   "nbconvert_exporter": "python",
   "pygments_lexer": "ipython3",
   "version": "3.9.7"
  },
  "orig_nbformat": 4,
  "vscode": {
   "interpreter": {
    "hash": "c0192ca4e0a4703a543a4e9097cc496511a0897681eca70535edf4132968de18"
   }
  }
 },
 "nbformat": 4,
 "nbformat_minor": 2
}
